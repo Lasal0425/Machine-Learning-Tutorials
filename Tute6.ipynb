{
  "nbformat": 4,
  "nbformat_minor": 0,
  "metadata": {
    "colab": {
      "provenance": [],
      "mount_file_id": "1DMxnIRYBVW3rB9fn2NtIAfkaOhEPqGCw",
      "authorship_tag": "ABX9TyP0i7TYn747fVAT8hBnHXIQ",
      "include_colab_link": true
    },
    "kernelspec": {
      "name": "python3",
      "display_name": "Python 3"
    },
    "language_info": {
      "name": "python"
    }
  },
  "cells": [
    {
      "cell_type": "markdown",
      "metadata": {
        "id": "view-in-github",
        "colab_type": "text"
      },
      "source": [
        "<a href=\"https://colab.research.google.com/github/Lasal0425/Machine-Learning-Tutorials/blob/main/Tute6.ipynb\" target=\"_parent\"><img src=\"https://colab.research.google.com/assets/colab-badge.svg\" alt=\"Open In Colab\"/></a>"
      ]
    },
    {
      "cell_type": "code",
      "execution_count": 2,
      "metadata": {
        "id": "dzpnYTQd2a6u"
      },
      "outputs": [],
      "source": [
        "#To transform your features into new values\n",
        "from sklearn import preprocessing\n",
        "\n",
        "#Import train_test_split function\n",
        "from sklearn.model_selection import train_test_split\n",
        "\n",
        "#To construct and plot decission trees\n",
        "from sklearn import tree\n",
        "from matplotlib import pyplot as plt\n",
        "\n",
        "#import Decision Tree Classifier to predict loan approval status\n",
        "from sklearn.tree import DecisionTreeClassifier\n",
        "\n",
        "#import Decision Tree Regressor to predict maximum loan amount\n",
        "from sklearn.tree import DecisionTreeRegressor\n",
        "\n",
        "#to optimise the Decision Tree model's hyperparamters\n",
        "from sklearn.model_selection import GridSearchCV\n",
        "\n",
        "#import scikiti-learn metrices module for classification and regression performance metrics\n",
        "from sklearn import metrics\n",
        "\n",
        "#to create and plot the confusion matrix\n",
        "from sklearn.metrics import confusion_matrix\n",
        "from sklearn.metrics import ConfusionMatrixDisplay\n",
        "\n",
        "#to produce the classification metrices report\n",
        "from sklearn.metrics import classification_report\n",
        "\n",
        "#to create, calculate and plot the RoC curve\n",
        "from sklearn.metrics import RocCurveDisplay"
      ]
    }
  ]
}